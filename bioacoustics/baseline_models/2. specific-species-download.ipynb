{
 "cells": [
  {
   "cell_type": "code",
   "execution_count": 1,
   "id": "5e80b8ad",
   "metadata": {},
   "outputs": [],
   "source": [
    "#import the necessary libraries\n",
    "import os\n",
    "import re\n",
    "import requests\n",
    "from tqdm import tqdm\n",
    "import ipywidgets as wg\n",
    "import urllib.request, json\n",
    "from collections import Counter"
   ]
  },
  {
   "cell_type": "code",
   "execution_count": 2,
   "id": "52772e6f",
   "metadata": {},
   "outputs": [],
   "source": [
    "\n",
    "def speciesOfInterest(bird):\n",
    "    \"\"\" Returns a list that contains dictionaries that contain links\n",
    "        to download bird recordings, file names among other details.\n",
    "    \n",
    "    Args: \n",
    "        country: a string of the name of the country the recordings were done\n",
    "    \"\"\"\n",
    "    recordings = []\n",
    "    \n",
    "    \"\"\"the following three lines take care of countries with more than one name e.g. 'United Kingdom'\n",
    "        to match the format required for advanced search in Xeno-canto\"\"\"\n",
    "    \n",
    "    link='https://www.xeno-canto.org/api/2/recordings?query=\" \"' \n",
    "    link = link.replace(' ', bird)\n",
    "    link = link.replace(' ', '%20')\n",
    "    with urllib.request.urlopen(link) as url:\n",
    "        data = json.loads(url.read().decode())\n",
    "        \n",
    "    pages = data['numPages'] # get the number of pages available for the query\n",
    "    \n",
    "    for page in range(pages): # iterate through the pages\n",
    "        page  = '&page=' + str(page + 1)\n",
    "        link='https://www.xeno-canto.org/api/2/recordings?query=\" \"' + page #specify the page in the search query\n",
    "        link = link.replace(' ', bird)\n",
    "        link = link.replace(' ', '%20')\n",
    "        with urllib.request.urlopen(link) as url:\n",
    "            content = json.loads(url.read().decode())\n",
    "            content = content['recordings']\n",
    "            for dic in content:\n",
    "                recordings.append(dic)\n",
    "        \n",
    "    \n",
    "    return recordings"
   ]
  },
  {
   "cell_type": "code",
   "execution_count": 3,
   "id": "58821810",
   "metadata": {},
   "outputs": [],
   "source": [
    "def fileSelect(birds):\n",
    "    \"\"\"Returns a dictionary that comprise of links to download the \n",
    "    recordings with the the file names as the keys\n",
    "    \n",
    "    Args:\n",
    "        country: a string of the country the recordings were taken\n",
    "    \n",
    "    \"\"\"\n",
    "    birds_dict = {}\n",
    "    extension = '.mp3'\n",
    "    \n",
    "    for bird in birds:\n",
    "        recordings = speciesOfInterest(bird)\n",
    "        file_plus_links = {}\n",
    "        count = 0\n",
    "        for recording in recordings:\n",
    "            if recording['type'] == 'call':\n",
    "                name = bird + str(count) + extension\n",
    "                count += 1\n",
    "                \n",
    "                file_plus_links.update({name:'https:' + recording['file']})\n",
    "                \n",
    "        birds_dict.update({bird:file_plus_links})\n",
    "\n",
    "    return birds_dict"
   ]
  },
  {
   "cell_type": "code",
   "execution_count": 4,
   "id": "70ccc88a",
   "metadata": {},
   "outputs": [],
   "source": [
    "def fileDownload(birds):\n",
    "    \"\"\" Downloads and save the audio recordings in the specified path\n",
    "    Args:\n",
    "        country: a string of the country the recordings were taken\n",
    "    \"\"\"\n",
    "    parent_dir = './xenocanto'\n",
    "    birds_dict = fileSelect(birds)\n",
    "    \n",
    "    \n",
    "    for bird in birds:\n",
    "        \n",
    "\n",
    "        audio_dir = os.path.join(parent_dir, bird)\n",
    "        if not os.path.exists(audio_dir):\n",
    "            os.makedirs(audio_dir)\n",
    "        comp_file_list = list(birds_dict[bird])\n",
    "        already_downloaded = os.listdir(audio_dir)\n",
    "        comp_file_list = list(set(comp_file_list) - set(already_downloaded))\n",
    "        comp_file_list = tqdm(comp_file_list)\n",
    "        for file in comp_file_list:\n",
    "            comp_file_list.set_description(\"Downloading %s\" % bird)\n",
    "            url = birds_dict[bird][file]\n",
    "            myfile = requests.get(url)\n",
    "            open(os.path.join(audio_dir, file), 'wb').write(myfile.content)"
   ]
  },
  {
   "cell_type": "code",
   "execution_count": 5,
   "id": "27ea2760",
   "metadata": {},
   "outputs": [
    {
     "name": "stderr",
     "output_type": "stream",
     "text": [
      "Downloading grey-backed camaroptera: 100%|███████████████████████████████████████████| 125/125 [04:57<00:00,  2.38s/it]\n",
      "Downloading tropical boubou: 100%|█████████████████████████████████████████████████████| 32/32 [01:18<00:00,  2.44s/it]\n",
      "Downloading hartlaub's turaco: 100%|███████████████████████████████████████████████████| 15/15 [00:33<00:00,  2.25s/it]\n"
     ]
    }
   ],
   "source": [
    "birds = [\"grey-backed camaroptera\", \"tropical boubou\", \"hartlaub's turaco\"]\n",
    "fileDownload(birds)"
   ]
  }
 ],
 "metadata": {
  "kernelspec": {
   "display_name": "Python 3",
   "language": "python",
   "name": "python3"
  },
  "language_info": {
   "codemirror_mode": {
    "name": "ipython",
    "version": 3
   },
   "file_extension": ".py",
   "mimetype": "text/x-python",
   "name": "python",
   "nbconvert_exporter": "python",
   "pygments_lexer": "ipython3",
   "version": "3.8.7"
  }
 },
 "nbformat": 4,
 "nbformat_minor": 5
}
