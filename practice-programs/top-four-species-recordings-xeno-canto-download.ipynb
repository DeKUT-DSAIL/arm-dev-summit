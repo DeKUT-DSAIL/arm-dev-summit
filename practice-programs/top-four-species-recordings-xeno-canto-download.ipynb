{
 "cells": [
  {
   "cell_type": "code",
   "execution_count": 1,
   "id": "4a4c4062",
   "metadata": {},
   "outputs": [],
   "source": [
    "#import the necessary libraries\n",
    "import re\n",
    "import os\n",
    "import requests\n",
    "from tqdm import tqdm\n",
    "import ipywidgets as wg\n",
    "import urllib.request, json\n",
    "from collections import Counter\n",
    "from pycountry import countries"
   ]
  },
  {
   "cell_type": "code",
   "execution_count": 2,
   "id": "dc857146",
   "metadata": {},
   "outputs": [],
   "source": [
    "#Download and save the top 4 most common species in a given country\n",
    "\n",
    "def countryOfInterest(country):\n",
    "    \"\"\" Returns a list that contains dictionaries that contain links\n",
    "        to download bird recordings, file names among other details.\n",
    "    \n",
    "    Args: \n",
    "        country: a string of the name of the country the recordings were done\n",
    "    \"\"\"\n",
    "    recordings = []\n",
    "    \n",
    "    \"\"\"the following three lines take care of countries with more than one name e.g. 'United Kingdom'\n",
    "        to match the format required for advanced search in Xeno-canto\"\"\"\n",
    "    \n",
    "    link='https://www.xeno-canto.org/api/2/recordings?query=cnt:\" \"' \n",
    "    link = link.replace(' ', country)\n",
    "    link = link.replace(' ', '%20')\n",
    "    with urllib.request.urlopen(link) as url:\n",
    "        data = json.loads(url.read().decode())\n",
    "        \n",
    "    pages = data['numPages'] # get the number of pages available for the query\n",
    "    \n",
    "    for page in range(pages): # iterate through the pages\n",
    "        page  = '&page=' + str(page + 1)\n",
    "        link='https://www.xeno-canto.org/api/2/recordings?query=cnt:\" \"' + page #specify the page in the search query\n",
    "        link = link.replace(' ', country)\n",
    "        link = link.replace(' ', '%20')\n",
    "        with urllib.request.urlopen(link) as url:\n",
    "            content = json.loads(url.read().decode())\n",
    "            content = content['recordings']\n",
    "            for dic in content:\n",
    "                recordings.append(dic)\n",
    "        \n",
    "    \n",
    "    return recordings\n",
    "\n",
    "\n",
    "def fileSelect(country):\n",
    "    \"\"\"Returns a dictionary that comprise of links to download the \n",
    "    recordings with the the file names as the keys\n",
    "    \n",
    "    Args:\n",
    "        country: a string of the country the recordings were taken\n",
    "    \n",
    "    \"\"\"\n",
    "    birds_dict = {}\n",
    "    extension = '.mp3'\n",
    "    recordings = countryOfInterest(country)\n",
    "    birds = [name['en'] for name in recordings]\n",
    "    num_birds = Counter(birds)\n",
    "    most_frequent = num_birds.most_common(4)\n",
    "    \n",
    "    for bird in most_frequent: #this loop removes unknown birds from the most frequent bird species\n",
    "        if bird[0] == 'Identity unknown':\n",
    "            most_frequent = num_birds.most_common(5) #add the fifth most common bird species\n",
    "            most_frequent.remove(bird) #remove the bird species labeled as unknown\n",
    "            \n",
    "    for bird in most_frequent:\n",
    "        file_plus_links = {}\n",
    "        for recording in recordings:\n",
    "            if recording['en'] == bird[0] and recording['also'] == ['']:\n",
    "                name = recording['file-name'][:-3]\n",
    "                name = re.sub(r'[^\\w\\s]', '', name) #drop punctuations in the file name\n",
    "                name = name + extension\n",
    "                file_plus_links.update({name:('https:' + recording['file'])})\n",
    "                \n",
    "        birds_dict.update({bird[0]:file_plus_links})\n",
    "\n",
    "                \n",
    "\n",
    "    return birds_dict\n",
    "\n",
    "\n",
    "def fileDownload(country):\n",
    "    \"\"\" Downloads and save the audio recordings in the specified path\n",
    "    Args:\n",
    "        country: a string of the country the recordings were taken\n",
    "    \"\"\"\n",
    "    birds_dict = fileSelect(country)\n",
    "    for bird in birds_dict:\n",
    "        if not os.path.exists(bird):\n",
    "            os.makedirs(bird)    \n",
    "        for file in tqdm(birds_dict[bird]):\n",
    "            url = birds_dict[bird][file]\n",
    "            myfile = requests.get(url)\n",
    "            open(os.path.join(bird, file), 'wb').write(myfile.content)"
   ]
  },
  {
   "cell_type": "code",
   "execution_count": 3,
   "id": "f849fee8",
   "metadata": {},
   "outputs": [
    {
     "name": "stderr",
     "output_type": "stream",
     "text": [
      "100%|██████████████████████████████████████████████████████████████████████████████████| 98/98 [07:15<00:00,  4.45s/it]\n",
      "100%|██████████████████████████████████████████████████████████████████████████████████| 60/60 [07:16<00:00,  7.27s/it]\n",
      "100%|██████████████████████████████████████████████████████████████████████████████████| 47/47 [05:43<00:00,  7.31s/it]\n",
      "100%|██████████████████████████████████████████████████████████████████████████████████| 45/45 [05:51<00:00,  7.82s/it]\n"
     ]
    }
   ],
   "source": [
    "fileDownload('kenya')"
   ]
  }
 ],
 "metadata": {
  "kernelspec": {
   "display_name": "Python 3",
   "language": "python",
   "name": "python3"
  },
  "language_info": {
   "codemirror_mode": {
    "name": "ipython",
    "version": 3
   },
   "file_extension": ".py",
   "mimetype": "text/x-python",
   "name": "python",
   "nbconvert_exporter": "python",
   "pygments_lexer": "ipython3",
   "version": "3.8.7"
  }
 },
 "nbformat": 4,
 "nbformat_minor": 5
}
