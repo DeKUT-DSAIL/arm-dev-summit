{
 "cells": [
  {
   "cell_type": "code",
   "execution_count": 1,
   "id": "aad9a632",
   "metadata": {},
   "outputs": [],
   "source": [
    "#import necessary libraries\n",
    "import os\n",
    "import random\n",
    "import librosa\n",
    "import argparse\n",
    "import warnings\n",
    "import numpy as np\n",
    "import configparser\n",
    "from tqdm import tqdm\n",
    "import IPython.display\n",
    "import librosa.display\n",
    "import soundfile as sf\n",
    "import matplotlib.pyplot as plt\n",
    "from scipy.ndimage import binary_dilation, binary_erosion"
   ]
  },
  {
   "cell_type": "code",
   "execution_count": 2,
   "id": "79d1217c",
   "metadata": {},
   "outputs": [],
   "source": [
    "warnings.filterwarnings('ignore')\n",
    "\n",
    "# Get parameters from configuration file\n",
    "config = configparser.ConfigParser()\n",
    "config.read('parameters.ini')\n",
    "\n",
    "win_len_ms = int(config['audio']['win_len_ms'])\n",
    "overlap = float(config['audio']['overlap'])\n",
    "sr = int(config['audio']['sampling_rate'])\n",
    "\n",
    "\n",
    "# Derive audio processing values\n",
    "win_len = int((win_len_ms * sr) / 1000)\n",
    "hop_len = int(win_len * (1 - overlap))\n",
    "nfft = int(2 ** np.ceil(np.log2(win_len)))"
   ]
  },
  {
   "cell_type": "code",
   "execution_count": 4,
   "id": "e578088e",
   "metadata": {},
   "outputs": [],
   "source": [
    "#These functions get the indices corresponding to audio and noise in a file\n",
    "\n",
    "def compute_audio_mask(norm_specgram, hop_len, category='audio'):\n",
    "    \"\"\" Compute the section of signal corresponding to audio or noise\n",
    "    This follows the approach described in\n",
    "    Sprengel, E., Jaggi, M., Kilcher, Y., & Hofmann, T. (2016).\n",
    "    Audio based bird species identification using deep learning techniques\n",
    "    Args:\n",
    "        norm_specgram: input spectrogram with values in range [0,1]\n",
    "        hop_len: hop length used to generate the spectrogram\n",
    "        category: whether 'audio' or 'noise'\n",
    "    Returns:\n",
    "        mask: the mask of samples belonging to 'category'\n",
    "    Raises: ValueError if the category is not known\n",
    "    \"\"\"\n",
    "\n",
    "    if category == 'audio':\n",
    "        threshold = 3\n",
    "    elif category == 'noise':\n",
    "        threshold = 2.5\n",
    "    else:\n",
    "        raise ValueError('Unknown category')\n",
    "\n",
    "    col_mask = norm_specgram > threshold * np.median(norm_specgram, axis=0)\n",
    "    row_mask = norm_specgram.T > threshold * np.median(norm_specgram, axis=1)\n",
    "    row_mask  = row_mask.T\n",
    "    mask = col_mask & row_mask\n",
    "\n",
    "    # erosion\n",
    "    be_mask = binary_erosion(mask, np.ones((4, 4)))\n",
    "\n",
    "    # dilation\n",
    "    bd_be_mask = binary_dilation(be_mask, np.ones((4, 4)))\n",
    "\n",
    "    bd_be_mask = bd_be_mask.astype(int)\n",
    "    selected_col = np.max(bd_be_mask, axis=0)\n",
    "    bd_sel_col = binary_dilation(selected_col[:, None], np.ones((4, 1)))\n",
    "    bd2_sel_col = binary_dilation(bd_sel_col, np.ones((4, 1)))\n",
    "\n",
    "\n",
    "    # translate to audio samples\n",
    "    selection_mtx = np.ones((norm_specgram.shape[1], hop_len)) * selected_col[:, None]\n",
    "\n",
    "    audio_indx = selection_mtx.flatten().astype(bool)\n",
    "\n",
    "    if category == 'audio':\n",
    "        return audio_indx\n",
    "    else:\n",
    "        return ~audio_indx\n",
    "\n",
    "\n",
    "\n",
    "def get_audio_noise(audio_array, nfft, hop_len):\n",
    "    \"\"\" Get both the signal and noise\n",
    "    Args:\n",
    "        audio_array: an array of audio\n",
    "        nfft: FFT length\n",
    "        hop_len: hop length\n",
    "    Returns:\n",
    "        signal and noise\n",
    "    \"\"\"\n",
    "\n",
    "    specgram = np.abs(librosa.stft(audio_array, n_fft=nfft, hop_length=hop_len))\n",
    "    specgram_norm = specgram / (specgram.max() + 1e-8)\n",
    "\n",
    "    audio_indx = compute_audio_mask(specgram_norm, hop_len)[:len(audio_array)]\n",
    "    noise_indx = compute_audio_mask(specgram_norm, hop_len, 'noise')[:len(audio_array)]\n",
    "\n",
    "\n",
    "    return audio_array[audio_indx], audio_array[noise_indx]"
   ]
  },
  {
   "cell_type": "code",
   "execution_count": 5,
   "id": "96be91c2",
   "metadata": {},
   "outputs": [],
   "source": [
    "def audio_noise_save(rec_dir, sr, nfft, hop_len, audio_dir, noise_dir):\n",
    "    \"\"\" Save separated audio and noise parts\n",
    "    Args:\n",
    "        audio_array: an array of audio\n",
    "        nfft: FFT length\n",
    "        hop_len: hop length\n",
    "        audio_dir-path to save audio segment\n",
    "        noise_dir-path to save noise segment\n",
    "        rec_dir-recordings' directory\n",
    "        sr-sampling rate\n",
    "    \"\"\"\n",
    "    \n",
    "    \n",
    "    birds_dir = next(os.walk(rec_dir))[1]\n",
    "    for species in birds_dir:\n",
    "        print('Segmenting & saving', species, 'audio files.')\n",
    "        recs = os.listdir(os.path.join(rec_dir, species))\n",
    "        path = os.path.join(audio_dir, species) #path to store recording of a given species\n",
    "        if not os.path.exists(path):\n",
    "            os.makedirs(path)\n",
    "        for file in tqdm(recs):\n",
    "            try:\n",
    "                y,_ = librosa.load(os.path.join(rec_dir, species, file), sr=sr)\n",
    "                audio, noise = get_audio_noise(y, nfft, hop_len)\n",
    "            except Exception as e:\n",
    "                return\n",
    "            \n",
    "            sf.write(os.path.join(path,\n",
    "                          file.replace('mp3', 'wav')),\n",
    "             audio,\n",
    "             sr)\n",
    "            sf.write(os.path.join(noise_dir,\n",
    "                                  file.replace('mp3', 'wav')),\n",
    "                     noise,\n",
    "                     sr)"
   ]
  },
  {
   "cell_type": "code",
   "execution_count": 6,
   "id": "251c4d50",
   "metadata": {},
   "outputs": [
    {
     "name": "stderr",
     "output_type": "stream",
     "text": [
      "\r",
      "  0%|                                                                                           | 0/60 [00:00<?, ?it/s]"
     ]
    },
    {
     "name": "stdout",
     "output_type": "stream",
     "text": [
      "Segmenting & saving Grey-backed Camaroptera audio files.\n"
     ]
    },
    {
     "name": "stderr",
     "output_type": "stream",
     "text": [
      "100%|██████████████████████████████████████████████████████████████████████████████████| 60/60 [03:08<00:00,  3.15s/it]\n",
      "  0%|                                                                                           | 0/45 [00:00<?, ?it/s]"
     ]
    },
    {
     "name": "stdout",
     "output_type": "stream",
     "text": [
      "Segmenting & saving Rattling Cisticola audio files.\n"
     ]
    },
    {
     "name": "stderr",
     "output_type": "stream",
     "text": [
      "100%|██████████████████████████████████████████████████████████████████████████████████| 45/45 [02:04<00:00,  2.77s/it]\n",
      "  0%|                                                                                           | 0/98 [00:00<?, ?it/s]"
     ]
    },
    {
     "name": "stdout",
     "output_type": "stream",
     "text": [
      "Segmenting & saving Rüppell's Robin-Chat audio files.\n"
     ]
    },
    {
     "name": "stderr",
     "output_type": "stream",
     "text": [
      "100%|██████████████████████████████████████████████████████████████████████████████████| 98/98 [07:12<00:00,  4.42s/it]\n",
      "  0%|                                                                                           | 0/47 [00:00<?, ?it/s]"
     ]
    },
    {
     "name": "stdout",
     "output_type": "stream",
     "text": [
      "Segmenting & saving Spotted Palm Thrush audio files.\n"
     ]
    },
    {
     "name": "stderr",
     "output_type": "stream",
     "text": [
      "100%|██████████████████████████████████████████████████████████████████████████████████| 47/47 [01:59<00:00,  2.54s/it]\n"
     ]
    }
   ],
   "source": [
    "audio_noise_save('./xeno-canto',\n",
    "                 sr,\n",
    "                 nfft,\n",
    "                 hop_len,\n",
    "                 './noiseless-xeno-canto',\n",
    "                 './noise')"
   ]
  }
 ],
 "metadata": {
  "kernelspec": {
   "display_name": "Python 3",
   "language": "python",
   "name": "python3"
  },
  "language_info": {
   "codemirror_mode": {
    "name": "ipython",
    "version": 3
   },
   "file_extension": ".py",
   "mimetype": "text/x-python",
   "name": "python",
   "nbconvert_exporter": "python",
   "pygments_lexer": "ipython3",
   "version": "3.8.7"
  }
 },
 "nbformat": 4,
 "nbformat_minor": 5
}
